{
 "cells": [
  {
   "cell_type": "markdown",
   "id": "322c73a6",
   "metadata": {},
   "source": [
    "# Generate Training Data "
   ]
  },
  {
   "cell_type": "code",
   "execution_count": 20,
   "id": "68eef42c",
   "metadata": {
    "ExecuteTime": {
     "end_time": "2023-08-25T22:32:50.356681Z",
     "start_time": "2023-08-25T22:32:50.350726Z"
    }
   },
   "outputs": [],
   "source": [
    "import numpy as np\n",
    "import pandas as pd\n",
    "import pygeostat as gs\n",
    "import matplotlib.pyplot as plt\n",
    "import matplotlib.cm as cm\n",
    "from mpl_toolkits.axes_grid1 import make_axes_locatable\n",
    "import os"
   ]
  },
  {
   "cell_type": "markdown",
   "id": "c6a2312a",
   "metadata": {},
   "source": [
    "## SGS realizations "
   ]
  },
  {
   "cell_type": "code",
   "execution_count": 24,
   "id": "6d5fa52a",
   "metadata": {
    "ExecuteTime": {
     "end_time": "2023-08-25T22:33:27.166715Z",
     "start_time": "2023-08-25T22:33:27.149732Z"
    }
   },
   "outputs": [],
   "source": [
    "Azimuth = [10,20,30,40,50,60,70,80,90,100,110,120,130,140,150,170]"
   ]
  },
  {
   "cell_type": "code",
   "execution_count": 25,
   "id": "4c9fd861",
   "metadata": {
    "ExecuteTime": {
     "end_time": "2023-08-25T22:33:27.416630Z",
     "start_time": "2023-08-25T22:33:27.405690Z"
    }
   },
   "outputs": [],
   "source": [
    "for i in Azimuth:\n",
    "    imgdir = (('SGS/SGS_{}').format(i))\n",
    "    gs.mkdir(imgdir)"
   ]
  },
  {
   "cell_type": "code",
   "execution_count": 3,
   "id": "61b7ec9c",
   "metadata": {
    "ExecuteTime": {
     "end_time": "2023-08-25T22:09:16.334898Z",
     "start_time": "2023-08-25T22:09:16.272958Z"
    }
   },
   "outputs": [
    {
     "name": "stdout",
     "output_type": "stream",
     "text": [
      "C:\\Users\\amokdad\\New - 18\\tmple9ep8st\\sgsim.par has been copied to the clipboard\n"
     ]
    }
   ],
   "source": [
    "sgsim = gs.Program('exes/sgsim.exe',getpar = True)"
   ]
  },
  {
   "cell_type": "code",
   "execution_count": 22,
   "id": "eceea556",
   "metadata": {
    "ExecuteTime": {
     "end_time": "2023-08-25T22:33:18.004442Z",
     "start_time": "2023-08-25T22:33:17.997432Z"
    }
   },
   "outputs": [
    {
     "data": {
      "text/plain": [
       "Pygeostat GridDef:\n",
       "100 0.0 1.0 \n",
       "100 0.0 1.0 \n",
       "1 0.5 1.0"
      ]
     },
     "execution_count": 22,
     "metadata": {},
     "output_type": "execute_result"
    }
   ],
   "source": [
    "griddef = gs.GridDef(griddef=\"100 0 1 \\n100 0 1 \\n1 0.5 1\")\n",
    "griddef"
   ]
  },
  {
   "cell_type": "code",
   "execution_count": 9,
   "id": "839875df",
   "metadata": {
    "ExecuteTime": {
     "end_time": "2023-08-25T22:10:44.438910Z",
     "start_time": "2023-08-25T22:10:44.433924Z"
    },
    "code_folding": []
   },
   "outputs": [],
   "source": [
    "Reals=0\n",
    "for Azimuth in Azimuth:\n",
    "    for Range in  (10,12,14,16,18,20,22,24,26,28,30):\n",
    "        for Anisotropy_Ratio in  (1.0,1.2,1.4,1.6,1.8,2.0,2.2,2.4,2.6,2.8,3.0):\n",
    "            for Nugget_Effect in  (0,0.1,0.2,0.3,0.4): \n",
    "                Reals = Reals+1\n",
    "                sgsimpar = '''                  Parameters for SGSIM\n",
    "                                                ********************\n",
    "\n",
    "                START OF PARAMETERS:\n",
    "                Uncond                               -  file with data\n",
    "                2  3  0  7  0  0                     -  columns for X,Y,Z,vr,wt,sec.var.\n",
    "                -1.0       1.0e21                    -  trimming limits\n",
    "                0                                    -  transform the data (0=no, 1=yes)\n",
    "                sgsim.trn                            -  file for output trans table\n",
    "                0                                    -  consider ref. dist (0=no, 1=yes)\n",
    "                histsmth.out                         -  file with ref. dist distribution\n",
    "                1  2                                 -  columns for vr and wt\n",
    "                0.0    15.0                          -  zmin,zmax(tail extrapolation)\n",
    "                1       0.0                          -  lower tail option, parameter\n",
    "                1      15.0                          -  upper tail option, parameter\n",
    "                1                                    -  debugging level: 0,1,2,3\n",
    "                sgsim.dbg                            -  file for debugging output\n",
    "                SGS/SGS_{Azimuth}/SGSIM{Reals}.out   -  file for simulation output\n",
    "                170                                  -  number of realizations to generate\n",
    "                100    0.0    1.0                    -  nx,xmn,xsiz\n",
    "                100    0.0    1.0                    -  ny,ymn,ysiz\n",
    "                1       0.5    1.0                   -  nz,zmn,zsiz\n",
    "                {Range}{Reals}                       -  random number seed\n",
    "                0     48                             -  min and max original data for sim\n",
    "                48                                   -  number of simulated nodes to use\n",
    "                1                                    -  assign data to nodes (0=no, 1=yes)\n",
    "                1     3                              -  multiple grid search (0=no, 1=yes),num\n",
    "                0                                    -  maximum data per octant (0=not used)\n",
    "                100.0  100.0  10.0                   -  maximum search radii (hmax,hmin,vert)\n",
    "                90.0  0.0   0.0                      -  angles for search ellipsoid\n",
    "                51    51    11                       -  size of covariance lookup table\n",
    "                0     0.0   1.0                      -  ktype: 0=SK,1=OK,2=LVM,3=EXDR,4=COLC\n",
    "                ../data/ydata.dat                    -  file with LVM, EXDR, or COLC variable\n",
    "                4                                    -  column for secondary variable\n",
    "                1    {Nugget_Effect}                 -  nst, nugget effect\n",
    "                1    {cc}  90.0   0.0   0.0          -  it,cc,ang1,ang2,ang3\n",
    "                {Range}  {a_hmin}  10                -  a_hmax, a_hmin, a_vert\n",
    "\n",
    "\n",
    "                '''\n",
    "                sgsim.run(parstr=sgsimpar.format(Azimuth=Azimuth,Range=Range, Anisotropy_Ratio=Anisotropy_Ratio, \n",
    "                                                 cc=1-Nugget_Effect, a_hmin=Range/Anisotropy_Ratio ,Reals=Reals))\n",
    "\n"
   ]
  },
  {
   "cell_type": "markdown",
   "id": "3491c615",
   "metadata": {},
   "source": [
    "## Sample the realizations "
   ]
  },
  {
   "cell_type": "code",
   "execution_count": 19,
   "id": "d5044427",
   "metadata": {
    "ExecuteTime": {
     "end_time": "2023-08-25T22:21:17.854283Z",
     "start_time": "2023-08-25T22:21:17.841347Z"
    }
   },
   "outputs": [],
   "source": [
    "gsample= gs.Program(program='exes/gsample',parfile='gsample.par')"
   ]
  },
  {
   "cell_type": "code",
   "execution_count": 10,
   "id": "241a4e42",
   "metadata": {
    "ExecuteTime": {
     "end_time": "2023-08-25T22:10:44.640978Z",
     "start_time": "2023-08-25T22:10:44.625927Z"
    }
   },
   "outputs": [],
   "source": [
    "parstr = '''       Parameters for gsample V2.000\n",
    "                             *********************************\n",
    "       \n",
    "START OF PARAMETERS:\n",
    "1                                            - Number of files to sample\n",
    "SGS/SGS_{Azimuth}/SGSIM{Reals}.out           - File with first grid\n",
    "1  1                                         - Number of variables and columns\n",
    "{Reals}                                          - Realization to sample\n",
    "100 0.0 1.0                                  - Input grid: nx,xmn,xsiz\n",
    "100 0.0 1.0                                  - ny,ymn,ysiz\n",
    "1   0.5  1                                   - nz,zmn,zsiz\n",
    "0                                            - Sampling spacing option (0=regular, 1=random)\n",
    "5 5                                          - If 0, spacing in X, Y\n",
    "0.5  0.5                                     - If 0, collar of the first sample, X and Y (inside sampling grid)\n",
    "80  69069                                    - If 1, number of drill holes and seed number\n",
    "0  0                                         - Azimuth and dip\n",
    "30                                           - Sample spacing downhole\n",
    "1                                            - Starting drill hole ID for new drills\n",
    "2                                            - Number of decimal places (coordinates precision, up to 6)\n",
    "0.5   99                                     - Sampling grid: xmin, xmax\n",
    "0.5   99                                     -                ymin, ymax\n",
    "0   .5                                       -                zmin, zmax\n",
    "dhs/dhs_{Azimuth}/{a}dhs{b}.out              - Output file with new drill holes\n",
    "0                                            - Output keyout file? (0=no, 1=yes)\n",
    "0                                            - If keyout (0=input grid inside sampling grid, 1=input blocks with assays)\n",
    "keyout.out                                   - Keyout file\n",
    "'''\n",
    "pars = dict()\n",
    "callpars = []\n",
    "for i in range (1,606):\n",
    "    for j in  range (1,171):\n",
    "        pars['Azimuth'] = Azimuth\n",
    "        pars['Reals'] = Reals\n",
    "        pars['a'] = i\n",
    "        pars['b'] = j\n",
    "        callpars.append(dict(parstr=parstr.format(**pars)))\n",
    "gs.runparallel(gsample, callpars, nprocess=3)"
   ]
  },
  {
   "cell_type": "markdown",
   "id": "8dc64f5f",
   "metadata": {},
   "source": [
    "## Inverse distanse estimate "
   ]
  },
  {
   "cell_type": "code",
   "execution_count": 11,
   "id": "73ba747b",
   "metadata": {
    "ExecuteTime": {
     "end_time": "2023-08-25T22:10:44.827432Z",
     "start_time": "2023-08-25T22:10:44.823472Z"
    }
   },
   "outputs": [],
   "source": [
    "parstr = \"\"\"                Parameters for KT3DN\n",
    "                                    ********************\n",
    "        START OF PARAMETERS:\n",
    "        dhs/dhs_{Azimuth}/{a}dhs{b}.out      -  file with data\n",
    "        0  2  3  0  7  0                    -  columns for DH,X,Y,Z,var,sec var\n",
    "        -998.0    1.0e21                    -  trimming limits\n",
    "        0                                   -  option: 0=grid, 1=cross, 2=jackknife\n",
    "        xvk.dat                             -  file with jackknife data\n",
    "        1   2   0    3    0                 -  columns for X,Y,Z,vr and sec var\n",
    "        kt3dn_dataspacing.out               -  data spacing analysis output file (see note)\n",
    "        0    15.0                           -  number to search (0 for no dataspacing analysis, rec. 10 or 20) and composite length\n",
    "        0    100   0                        -  debugging level: 0,3,5,10; max data for GSKV;output total weight of each data?(0=no,1=yes)\n",
    "        kt3dn.dbg-nkt3dn.sum                -  file for debugging output (see note)\n",
    "        IDW/IDW_{Azimuth}/{a}IDW{b}.out    -  file for kriged output (see GSB note)\n",
    "        100   0    1.0                      -  nx,xmn,xsiz\n",
    "        100   0    1.0                      -  ny,ymn,ysiz\n",
    "        1    0.5    1.0                     -  nz,zmn,zsiz\n",
    "        1    1      1                       -  x,y and z block discretization\n",
    "        4    48    12    1                  -  min, max data for kriging,upper max for ASO,ASO incr\n",
    "        0      0                            -  max per octant, max per drillhole (0-> not used)\n",
    "        100.0  100.0  100.0                 -  maximum search radii\n",
    "        0.0   0.0   0.0                     -  angles for search ellipsoid\n",
    "        0                                   -  0=SK,1=OK,2=LVM(resid),3=LVM((1-w)*m(u))),4=colo,5=exdrift,6=ICCK\n",
    "        0  0.6  0.8                     -  mean (if 0,4,5,6), corr. (if 4 or 6), var. reduction factor (if 4)\n",
    "        0 0 0 0 0 0 0 0 0                   -  drift: x,y,z,xx,yy,zz,xy,xz,zy\n",
    "        0                                   -  0, variable; 1, estimate trend\n",
    "        extdrift.out                        -  gridded file with drift/mean\n",
    "        4                                   -  column number in gridded file\n",
    "        keyout.out                          -  gridded file with keyout (see note)\n",
    "        0    1                              -  column (0 if no keyout) and value to keep\n",
    "        -1    0.01                          -  nst, nugget effect\n",
    "        1    2  0.0   0.0   0.0             -  it,cc,ang1,ang2,ang3\n",
    "        20 20 20                       -  a_hmax, a_hmin, a_vert\n",
    " \n",
    "        Invdist option explained:\n",
    "        Set nst to -1 for inverse distance\n",
    "        Inverse distance estimates are calculated with the anisotropy/angle information and weights as:\n",
    "        weight(i)*=1/(h+c0(1))^(cc(1))\n",
    "        The ID weights are then scaled to sum to 1\n",
    "        \"\"\" \n",
    "\n",
    "pars = dict()\n",
    "callpars = []\n",
    "for i in range (1,606):\n",
    "    for j in  range (1,171):\n",
    "        pars['a'] = i\n",
    "        pars['b'] = j\n",
    "        pars['Azimuth'] = Azimuth\n",
    "        callpars.append(dict(parstr=parstr.format(**pars)))\n",
    "gs.runparallel(kt3dn, callpars, nprocess=5)\n"
   ]
  },
  {
   "cell_type": "code",
   "execution_count": 26,
   "id": "dd1b93dd",
   "metadata": {
    "ExecuteTime": {
     "end_time": "2023-08-29T21:05:39.779729Z",
     "start_time": "2023-08-29T21:05:39.751762Z"
    }
   },
   "outputs": [
    {
     "data": {
      "text/plain": [
       "'C:\\\\Users\\\\amokdad\\\\New - 18'"
      ]
     },
     "execution_count": 26,
     "metadata": {},
     "output_type": "execute_result"
    }
   ],
   "source": [
    "pwd"
   ]
  },
  {
   "cell_type": "code",
   "execution_count": null,
   "id": "2af552a4",
   "metadata": {},
   "outputs": [],
   "source": []
  }
 ],
 "metadata": {
  "kernelspec": {
   "display_name": "Python 3",
   "language": "python",
   "name": "python3"
  },
  "language_info": {
   "codemirror_mode": {
    "name": "ipython",
    "version": 3
   },
   "file_extension": ".py",
   "mimetype": "text/x-python",
   "name": "python",
   "nbconvert_exporter": "python",
   "pygments_lexer": "ipython3",
   "version": "3.7.10"
  },
  "toc": {
   "base_numbering": 1,
   "nav_menu": {},
   "number_sections": true,
   "sideBar": true,
   "skip_h1_title": false,
   "title_cell": "Table of Contents",
   "title_sidebar": "Contents",
   "toc_cell": false,
   "toc_position": {},
   "toc_section_display": true,
   "toc_window_display": false
  }
 },
 "nbformat": 4,
 "nbformat_minor": 5
}
